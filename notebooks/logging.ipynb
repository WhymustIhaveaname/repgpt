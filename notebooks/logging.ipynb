{
 "cells": [
  {
   "cell_type": "markdown",
   "metadata": {},
   "source": [
    "## Logging"
   ]
  },
  {
   "cell_type": "markdown",
   "metadata": {},
   "source": [
    "### Simple Recipe for Logging with Tensorboard in PyTorch"
   ]
  },
  {
   "cell_type": "code",
   "execution_count": 1,
   "metadata": {},
   "outputs": [],
   "source": [
    "from datetime import datetime\n",
    "from torch.utils.tensorboard import SummaryWriter\n",
    "\n",
    "# Before training\n",
    "job_name = f\"gpt2-training-124M-{datetime.now().strftime('%Y-%m-%d-%H-%M-%S')}\"\n",
    "data_dir = \"/tmp/data/\"\n",
    "log_dir = os.path.join(data_dir, \"output/tensorboard\", job_name)\n",
    "writer = SummaryWriter(log_dir=log_dir)\n",
    "\n",
    "# Within training loop\n",
    "writer.add_scalar(\"Loss/train\", losses[\"train\"], step)\n",
    "writer.add_scalar(\"Loss/eval\", losses[\"eval\"], step)\n",
    "writer.add_scalar(\"learning_rate\", lr, step)\n",
    "\n",
    "# After training\n",
    "hparam_dict = {\n",
    "    \"max_learning_rate\": max_learning_rate,\n",
    "    \"max_steps\": max_steps,\n",
    "    \"warmup_steps\": warmup_steps,\n",
    "    \"min_learning_rate\": min_learning_rate,\n",
    "    \"lr_decay_steps\": lr_decay_steps,\n",
    "    \"batch_size\": batch_size,\n",
    "    \"weight_decay\": weight_decay,\n",
    "    \"gradient_accumulation_steps\": gradient_accumulation_steps,\n",
    "    \"grad_clip\": grad_clip,\n",
    "    \"beta1\": beta1,\n",
    "    \"beta2\": beta2,\n",
    "    \"n_layer\": n_layer,\n",
    "    \"n_embd\": n_embd,\n",
    "    \"n_head\": n_head,\n",
    "    \"context_size\": context_size,\n",
    "    \"vocab_size\": vocab_size,\n",
    "    \"total_training_tokens\": total_training_tokens,\n",
    "    \"n_times_through_data\": total_training_tokens / total_training_tokens_unique,\n",
    "    \"n_params\": n_params\n",
    "}\n",
    "metric_dict = {\"hparam/loss\": best_eval_loss.item()}\n",
    "writer.add_hparams(hparam_dict=hparam_dict, metric_dict=metric_dict)\n",
    "writer.flush()"
   ]
  },
  {
   "cell_type": "markdown",
   "metadata": {},
   "source": [
    "### Additional Items to Log"
   ]
  },
  {
   "cell_type": "code",
   "execution_count": 2,
   "metadata": {},
   "outputs": [],
   "source": [
    "def log_gradients(model, writer, step, prefix=\"grad\"):\n",
    "    for pn, p in model.named_parameters():\n",
    "        if p.grad is not None and p.dim() >= 2:\n",
    "            writer.add_histogram(f\"{pn}/{prefix}\", p.grad.float().cpu(), step)\n",
    "\n",
    "def log_weights(model, writer, step, prefix=\"parameter\"):\n",
    "    for pn, p in model.named_parameters():\n",
    "        if p.grad is not None:\n",
    "            writer.add_histogram(f\"{pn}/{prefix}\", p.float().cpu(), step)\n",
    "\n",
    "\n",
    "def log_norms(model, writer, step, prefix=\"norm\"):\n",
    "    for pn, p in model.named_parameters():\n",
    "        if p.grad is not None:\n",
    "            writer.add_histogram(f\"{pn}/{prefix}_wt\", torch.norm(p).float().cpu(), step)\n",
    "            writer.add_histogram(f\"{pn}/{prefix}_grad\", torch.norm(p.grad).float().cpu(), step)\n",
    "\n",
    "def log_minmax(model, writer, step):\n",
    "    for pn, p in model.named_parameters():\n",
    "        if (p.grad is not None) and (p.dim() >= 2):\n",
    "            writer.add_histogram(f\"{pn}/min\", torch.min(p).float().cpu(), step)\n",
    "            writer.add_histogram(f\"{pn}/max\", torch.max(p).float().cpu(), step)"
   ]
  }
 ],
 "metadata": {
  "kernelspec": {
   "display_name": "how-to-reproduce-gpt2",
   "language": "python",
   "name": "python3"
  },
  "language_info": {
   "codemirror_mode": {
    "name": "ipython",
    "version": 3
   },
   "file_extension": ".py",
   "mimetype": "text/x-python",
   "name": "python",
   "nbconvert_exporter": "python",
   "pygments_lexer": "ipython3",
   "version": "3.10.13"
  }
 },
 "nbformat": 4,
 "nbformat_minor": 2
}
