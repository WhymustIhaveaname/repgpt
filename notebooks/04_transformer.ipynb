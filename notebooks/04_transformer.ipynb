{
 "cells": [
  {
   "cell_type": "markdown",
   "metadata": {},
   "source": [
    "## Transformer\n",
    "\n",
    "Transformer in a deep learning context refers to the combination of mult-headed attention, combined with a couple of additional elements: layer normalization, feedforward network, and residual skip connections. Let's take each of these one-by-one:\n",
    "\n",
    "### 1. Layer Normalization\n",
    "\n",
    "> Unlike Batch Normalization and Instance Normalization, which applies scalar scale and bias for each entire channel/plane with the affine option, Layer Normalization applies per-element scale and bias with elementwise_affine ([torch docs](https://pytorch.org/docs/stable/generated/torch.nn.LayerNorm.html)).\n",
    "\n",
    "When you think of a single token's representation, it can get spikey. In an effort to smooth them out, we can use layer normalization. What does this mean? \n",
    "\n",
    "You subtract the mean and divide by the standard deviation. And you learn parameters, one or two for each embedding dimension. One if you disable the bias, two if you enable it.\n",
    "\n",
    "$y = \\frac{x - \\mathrm{E}[x]}{ \\sqrt{\\mathrm{Var}[x] + \\epsilon}} * \\gamma + \\beta$\n",
    "\n",
    "Here's what it looks like in PyTorch and vanilla matrix multiplication."
   ]
  },
  {
   "cell_type": "code",
   "execution_count": 63,
   "metadata": {},
   "outputs": [
    {
     "name": "stdout",
     "output_type": "stream",
     "text": [
      "tensor([[[0., 1., 2., 2.],\n",
      "         [1., 2., 0., 3.],\n",
      "         [3., 3., 3., 2.]],\n",
      "\n",
      "        [[3., 2., 2., 1.],\n",
      "         [1., 3., 0., 1.],\n",
      "         [3., 2., 0., 3.]]])\n",
      "Parameter containing:\n",
      "tensor([1., 1., 1., 1.], requires_grad=True)\n"
     ]
    },
    {
     "data": {
      "text/plain": [
       "tensor([[[-1.5075, -0.3015,  0.9045,  0.9045],\n",
       "         [-0.4472,  0.4472, -1.3416,  1.3416],\n",
       "         [ 0.5773,  0.5773,  0.5773, -1.7320]],\n",
       "\n",
       "        [[ 1.4142,  0.0000,  0.0000, -1.4142],\n",
       "         [-0.2294,  1.6059, -1.1471, -0.2294],\n",
       "         [ 0.8165,  0.0000, -1.6330,  0.8165]]],\n",
       "       grad_fn=<NativeLayerNormBackward0>)"
      ]
     },
     "execution_count": 63,
     "metadata": {},
     "output_type": "execute_result"
    }
   ],
   "source": [
    "import torch\n",
    "import torch.nn as nn\n",
    "\n",
    "batch_size = 2\n",
    "context_size = 3\n",
    "n_embd = 4\n",
    "bias=False\n",
    "# x = torch.tensor(range(batch_size * context_size * n_embd), dtype=torch.float).view(batch_size, context_size, n_embd)\n",
    "x = torch.randint(high=4, size=(batch_size, context_size, n_embd), dtype=torch.float)\n",
    "print(x)\n",
    "\n",
    "layer_norm = nn.LayerNorm(n_embd, bias=bias)\n",
    "print(layer_norm.weight)\n",
    "\n",
    "output = layer_norm(x)\n",
    "output"
   ]
  },
  {
   "cell_type": "code",
   "execution_count": 65,
   "metadata": {},
   "outputs": [
    {
     "data": {
      "text/plain": [
       "tensor([[[-1.5075, -0.3015,  0.9045,  0.9045],\n",
       "         [-0.4472,  0.4472, -1.3416,  1.3416],\n",
       "         [ 0.5773,  0.5773,  0.5773, -1.7320]],\n",
       "\n",
       "        [[ 1.4142,  0.0000,  0.0000, -1.4142],\n",
       "         [-0.2294,  1.6059, -1.1471, -0.2294],\n",
       "         [ 0.8165,  0.0000, -1.6330,  0.8165]]])"
      ]
     },
     "execution_count": 65,
     "metadata": {},
     "output_type": "execute_result"
    }
   ],
   "source": [
    "eps = 1e-5\n",
    "output2 = (x - torch.mean(x, dim=-1, keepdim=True)) / (torch.std(x, dim=-1, keepdim=True, unbiased=False) + eps)\n",
    "output2"
   ]
  },
  {
   "cell_type": "code",
   "execution_count": 66,
   "metadata": {},
   "outputs": [
    {
     "data": {
      "text/plain": [
       "tensor([2., 2., 2., 2.])"
      ]
     },
     "execution_count": 66,
     "metadata": {},
     "output_type": "execute_result"
    }
   ],
   "source": [
    "gamma = torch.ones(n_embd) * 2\n",
    "gamma"
   ]
  },
  {
   "cell_type": "code",
   "execution_count": 68,
   "metadata": {},
   "outputs": [
    {
     "data": {
      "text/plain": [
       "tensor([[[-3.0151, -0.6030,  1.8090,  1.8090],\n",
       "         [-0.8944,  0.8944, -2.6833,  2.6833],\n",
       "         [ 1.1547,  1.1547,  1.1547, -3.4640]],\n",
       "\n",
       "        [[ 2.8284,  0.0000,  0.0000, -2.8284],\n",
       "         [-0.4588,  3.2118, -2.2941, -0.4588],\n",
       "         [ 1.6330,  0.0000, -3.2660,  1.6330]]])"
      ]
     },
     "execution_count": 68,
     "metadata": {},
     "output_type": "execute_result"
    }
   ],
   "source": [
    "output2 * gamma"
   ]
  },
  {
   "cell_type": "code",
   "execution_count": 69,
   "metadata": {},
   "outputs": [
    {
     "name": "stdout",
     "output_type": "stream",
     "text": [
      "Outputs are equivalent: True\n"
     ]
    }
   ],
   "source": [
    "print(f\"Outputs are equivalent: {torch.allclose(output, output2)}\")"
   ]
  }
 ],
 "metadata": {
  "kernelspec": {
   "display_name": "how-to-reproduce-gpt2",
   "language": "python",
   "name": "python3"
  },
  "language_info": {
   "codemirror_mode": {
    "name": "ipython",
    "version": 3
   },
   "file_extension": ".py",
   "mimetype": "text/x-python",
   "name": "python",
   "nbconvert_exporter": "python",
   "pygments_lexer": "ipython3",
   "version": "3.1.0"
  }
 },
 "nbformat": 4,
 "nbformat_minor": 2
}
