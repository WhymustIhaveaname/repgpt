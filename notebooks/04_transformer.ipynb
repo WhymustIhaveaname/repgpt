{
 "cells": [
  {
   "cell_type": "markdown",
   "metadata": {},
   "source": [
    "## Transformer\n",
    "\n",
    "Transformer in a deep learning context refers to the combination of mult-headed attention, combined with a couple of additional elements: layer normalization, feedforward network, and residual skip connections. Let's take each of these one-by-one:\n",
    "\n",
    "### 1. Layer Normalization\n",
    "\n",
    "> Unlike Batch Normalization and Instance Normalization, which applies scalar scale and bias for each entire channel/plane with the affine option, Layer Normalization applies per-element scale and bias with elementwise_affine ([torch docs](https://pytorch.org/docs/stable/generated/torch.nn.LayerNorm.html)).\n",
    "\n",
    "When you think of a single token's representation, it can get spikey. In an effort to smooth them out, we can use layer normalization. What does this mean? \n",
    "\n",
    "You subtract the mean and divide by the standard deviation. And you learn parameters, one or two for each embedding dimension. One if you disable the bias, two if you enable it.\n",
    "\n",
    "$y = \\frac{x - \\mathrm{E}[x]}{ \\sqrt{\\mathrm{Var}[x] + \\epsilon}} * \\gamma + \\beta$\n",
    "\n",
    "Here's what it looks like in PyTorch and vanilla matrix multiplication."
   ]
  },
  {
   "cell_type": "code",
   "execution_count": 1,
   "metadata": {},
   "outputs": [
    {
     "name": "stdout",
     "output_type": "stream",
     "text": [
      "tensor([[[3., 0., 1., 3.],\n",
      "         [2., 2., 0., 2.],\n",
      "         [1., 0., 3., 3.]],\n",
      "\n",
      "        [[2., 2., 1., 1.],\n",
      "         [1., 2., 3., 2.],\n",
      "         [0., 0., 1., 0.]]])\n",
      "Parameter containing:\n",
      "tensor([1., 1., 1., 1.], requires_grad=True)\n"
     ]
    },
    {
     "data": {
      "text/plain": [
       "tensor([[[ 0.9622, -1.3471, -0.5773,  0.9622],\n",
       "         [ 0.5773,  0.5773, -1.7320,  0.5773],\n",
       "         [-0.5773, -1.3471,  0.9622,  0.9622]],\n",
       "\n",
       "        [[ 1.0000,  1.0000, -1.0000, -1.0000],\n",
       "         [-1.4142,  0.0000,  1.4142,  0.0000],\n",
       "         [-0.5773, -0.5773,  1.7320, -0.5773]]],\n",
       "       grad_fn=<NativeLayerNormBackward0>)"
      ]
     },
     "execution_count": 1,
     "metadata": {},
     "output_type": "execute_result"
    }
   ],
   "source": [
    "import torch\n",
    "import torch.nn as nn\n",
    "\n",
    "batch_size = 2\n",
    "context_size = 3\n",
    "n_embd = 4\n",
    "bias=False\n",
    "x = torch.randint(high=4, size=(batch_size, context_size, n_embd), dtype=torch.float)\n",
    "print(x)\n",
    "\n",
    "layer_norm = nn.LayerNorm(n_embd, bias=bias)\n",
    "print(layer_norm.weight)\n",
    "\n",
    "output = layer_norm(x)\n",
    "output"
   ]
  },
  {
   "cell_type": "code",
   "execution_count": 2,
   "metadata": {},
   "outputs": [
    {
     "data": {
      "text/plain": [
       "tensor([[[ 0.9622, -1.3471, -0.5773,  0.9622],\n",
       "         [ 0.5773,  0.5773, -1.7320,  0.5773],\n",
       "         [-0.5773, -1.3471,  0.9622,  0.9622]],\n",
       "\n",
       "        [[ 1.0000,  1.0000, -1.0000, -1.0000],\n",
       "         [-1.4142,  0.0000,  1.4142,  0.0000],\n",
       "         [-0.5773, -0.5773,  1.7320, -0.5773]]])"
      ]
     },
     "execution_count": 2,
     "metadata": {},
     "output_type": "execute_result"
    }
   ],
   "source": [
    "eps = 1e-5\n",
    "output2 = (x - torch.mean(x, dim=-1, keepdim=True)) / (torch.std(x, dim=-1, keepdim=True, unbiased=False) + eps)\n",
    "output2"
   ]
  },
  {
   "cell_type": "code",
   "execution_count": 3,
   "metadata": {},
   "outputs": [
    {
     "data": {
      "text/plain": [
       "tensor([2., 2., 2., 2.])"
      ]
     },
     "execution_count": 3,
     "metadata": {},
     "output_type": "execute_result"
    }
   ],
   "source": [
    "gamma = torch.ones(n_embd) * 2\n",
    "gamma"
   ]
  },
  {
   "cell_type": "code",
   "execution_count": 4,
   "metadata": {},
   "outputs": [
    {
     "data": {
      "text/plain": [
       "tensor([[[ 1.9245, -2.6943, -1.1547,  1.9245],\n",
       "         [ 1.1547,  1.1547, -3.4641,  1.1547],\n",
       "         [-1.1547, -2.6943,  1.9245,  1.9245]],\n",
       "\n",
       "        [[ 2.0000,  2.0000, -2.0000, -2.0000],\n",
       "         [-2.8284,  0.0000,  2.8284,  0.0000],\n",
       "         [-1.1547, -1.1547,  3.4640, -1.1547]]])"
      ]
     },
     "execution_count": 4,
     "metadata": {},
     "output_type": "execute_result"
    }
   ],
   "source": [
    "output2 * gamma"
   ]
  },
  {
   "cell_type": "code",
   "execution_count": 5,
   "metadata": {},
   "outputs": [
    {
     "name": "stdout",
     "output_type": "stream",
     "text": [
      "Outputs are equivalent: True\n"
     ]
    }
   ],
   "source": [
    "print(f\"Outputs are equivalent: {torch.allclose(output, output2)}\")"
   ]
  },
  {
   "cell_type": "markdown",
   "metadata": {},
   "source": [
    "### 2. Feed Forward\n",
    "\n",
    "* This operates on a per-token level, across the entire embedding space.\n",
    "* Information from other tokens is gathered by the dot-product from the Attention.\n",
    "* Then the model needs to \"think\" on that information it has gathered."
   ]
  },
  {
   "cell_type": "code",
   "execution_count": 3,
   "metadata": {},
   "outputs": [],
   "source": [
    "import torch\n",
    "import torch.nn as nn\n",
    "\n",
    "batch_size = 2; context_size = 3; n_embd = 4\n",
    "\n",
    "x = torch.rand(size=(batch_size, context_size, n_embd))\n",
    "\n",
    "class FeedForward(nn.Module):\n",
    "    def __init__(self, n_embd, bias=False):\n",
    "        super().__init__()\n",
    "        self.linear1 = nn.Linear(n_embd, 4 * n_embd, bias=bias)\n",
    "        self.activation = nn.GELU()\n",
    "        self.linear2 = nn.Linear(4 * n_embd, n_embd, bias=bias)\n",
    "\n",
    "    def forward(self, x):\n",
    "        x = self.linear1(x)\n",
    "        x = self.activation(x)\n",
    "        return self.linear2(x)\n",
    "\n",
    "ffwd = FeedForward(n_embd)"
   ]
  },
  {
   "cell_type": "code",
   "execution_count": 5,
   "metadata": {},
   "outputs": [
    {
     "name": "stdout",
     "output_type": "stream",
     "text": [
      "Input x=tensor([[[0.0611, 0.6234, 0.4217, 0.0938],\n",
      "         [0.4592, 0.5698, 0.8631, 0.4320],\n",
      "         [0.0084, 0.3418, 0.8917, 0.6578]],\n",
      "\n",
      "        [[0.1050, 0.4519, 0.0675, 0.1947],\n",
      "         [0.6866, 0.1235, 0.0039, 0.3434],\n",
      "         [0.7643, 0.6961, 0.1230, 0.5648]]])\n",
      "Output ffwd(x)=tensor([[[-0.0580, -0.0916, -0.0183,  0.0028],\n",
      "         [-0.1717, -0.1305,  0.0164, -0.1736],\n",
      "         [-0.1749, -0.1288, -0.0602, -0.1383]],\n",
      "\n",
      "        [[-0.0338, -0.0571, -0.0499,  0.0172],\n",
      "         [-0.0675, -0.0149,  0.0274, -0.1064],\n",
      "         [-0.1100, -0.1116, -0.0275, -0.0852]]], grad_fn=<UnsafeViewBackward0>)\n",
      "Number params =128\n"
     ]
    }
   ],
   "source": [
    "print(f\"Input {x=}\")\n",
    "print(f\"Output {ffwd(x)=}\")\n",
    "print(f\"Number params ={sum(p.numel() for p in ffwd.parameters() if p.requires_grad)}\")"
   ]
  }
 ],
 "metadata": {
  "kernelspec": {
   "display_name": "how-to-reproduce-gpt2",
   "language": "python",
   "name": "python3"
  },
  "language_info": {
   "codemirror_mode": {
    "name": "ipython",
    "version": 3
   },
   "file_extension": ".py",
   "mimetype": "text/x-python",
   "name": "python",
   "nbconvert_exporter": "python",
   "pygments_lexer": "ipython3",
   "version": "3.10.13"
  }
 },
 "nbformat": 4,
 "nbformat_minor": 2
}
