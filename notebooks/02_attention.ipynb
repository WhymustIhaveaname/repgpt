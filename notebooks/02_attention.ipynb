{
 "cells": [
  {
   "cell_type": "markdown",
   "metadata": {},
   "source": [
    "## 2. Attention\n",
    "\n",
    "The purpose of this notebook is twofold: (1) gain understanding of the attention mechanism, and (2) ensure that our implementation is correct by cross-checking with a built-in attention function.\n",
    "\n",
    "We will use the following progression:\n",
    "\n",
    "* Taking an average\n",
    "* Vectorizing our average\n",
    "* Learning weights for the wectorized weighted average\n",
    "* Cross checking with a built-in attention function\n",
    "* Expanding to mult-headed attention\n",
    "\n",
    "As reminder, the training goal is to predict the next token. In data, it looks like this:"
   ]
  },
  {
   "cell_type": "code",
   "execution_count": 1,
   "metadata": {},
   "outputs": [
    {
     "name": "stdout",
     "output_type": "stream",
     "text": [
      "data:\n",
      "tensor([[7., 9., 4., 7.],\n",
      "        [4., 9., 3., 0.]])\n",
      "--------------------------------------\n",
      "| Batch  | Context         | Target |\n",
      "--------------------------------------\n",
      "| 0      | [7.0]           | 9.0    |\n",
      "| 0      | [7.0, 9.0]      | 4.0    |\n",
      "| 0      | [7.0, 9.0, 4.0] | 7.0    |\n",
      "| 1      | [4.0]           | 9.0    |\n",
      "| 1      | [4.0, 9.0]      | 3.0    |\n",
      "| 1      | [4.0, 9.0, 3.0] | 0.0    |\n"
     ]
    }
   ],
   "source": [
    "import torch\n",
    "\n",
    "torch.set_printoptions(precision=4, sci_mode=False)\n",
    "torch.manual_seed(538)\n",
    "\n",
    "batch_size = 2\n",
    "context_size = 3\n",
    "\n",
    "data_batch = torch.randint(high=10, size=(batch_size, context_size + 1), dtype=torch.float32)\n",
    "x_batch = data_batch[:, :context_size]\n",
    "y_batch = data_batch[:, 1:context_size+1]\n",
    "\n",
    "print(f\"data:\\n{data_batch}\")\n",
    "\n",
    "print(\"-\" * 38)\n",
    "print(f\"| {'Batch': <6} | {'Context':<15} | {'Target'} |\")\n",
    "print(\"-\" * 38)\n",
    "for b in range(batch_size):\n",
    "    for t in range(context_size):\n",
    "        context = x_batch[b, : t + 1]\n",
    "        target = y_batch[b, t]\n",
    "        print(f\"| {b: <6} | {str(context.tolist()):<15} | {target:<6} |\")"
   ]
  },
  {
   "cell_type": "markdown",
   "metadata": {},
   "source": [
    "### 2.1 Taking an Average\n",
    "\n",
    "A naive method for predicting the next word would be to take an average of the word features that come before it. Let's look at the following example. \n",
    "\n",
    "For continuity with our actual attention implementation, we will add in the embedding dimension to our data."
   ]
  },
  {
   "cell_type": "code",
   "execution_count": 2,
   "metadata": {},
   "outputs": [
    {
     "data": {
      "text/plain": [
       "tensor([[[4., 9., 0., 0.],\n",
       "         [7., 0., 5., 3.],\n",
       "         [2., 1., 4., 9.]],\n",
       "\n",
       "        [[0., 7., 5., 4.],\n",
       "         [5., 1., 1., 4.],\n",
       "         [1., 5., 6., 5.]]])"
      ]
     },
     "execution_count": 2,
     "metadata": {},
     "output_type": "execute_result"
    }
   ],
   "source": [
    "batch_size = 2\n",
    "context_size = 3\n",
    "n_embd = 4\n",
    "\n",
    "x = torch.randint(high=10, size=(batch_size, context_size, n_embd), dtype=torch.float32)\n",
    "x"
   ]
  },
  {
   "cell_type": "markdown",
   "metadata": {},
   "source": [
    "We are going to therefore generate predictions for each position, so we are effectively getting multiple batches of examples from each sequence (as well as multiple independent sequences)."
   ]
  },
  {
   "cell_type": "code",
   "execution_count": 3,
   "metadata": {},
   "outputs": [
    {
     "name": "stdout",
     "output_type": "stream",
     "text": [
      "Output (batch_size=2, context_size=3):\n",
      " tensor([[[4.0000, 9.0000, 0.0000, 0.0000],\n",
      "         [5.5000, 4.5000, 2.5000, 1.5000],\n",
      "         [4.3333, 3.3333, 3.0000, 4.0000]],\n",
      "\n",
      "        [[0.0000, 7.0000, 5.0000, 4.0000],\n",
      "         [2.5000, 4.0000, 3.0000, 4.0000],\n",
      "         [2.0000, 4.3333, 4.0000, 4.3333]]])\n"
     ]
    }
   ],
   "source": [
    "y_output = torch.zeros((batch_size, context_size, n_embd))\n",
    "for b in range(batch_size):\n",
    "    for t in range(context_size):\n",
    "        x_prev = x[b, : t + 1, :]\n",
    "        y_output[b, t, :] = x_prev.mean(dim=0)\n",
    "print(f\"Output ({batch_size=}, {context_size=}):\\n {y_output}\")"
   ]
  },
  {
   "cell_type": "markdown",
   "metadata": {},
   "source": [
    "As a reminder: when you slice you don't get the value correspnding to the right integer e.g. `[:4]` it takes all elements up to but not including `4`.\n",
    "\n",
    "### 2.2 Vectorizing our moving average\n",
    "\n",
    "We can remove the for loop and vectorize the previous operation by the following technique: creating a square matrix of dimension `context_size`, then multiplying that matrix by our input matrix. \n",
    "\n",
    "And this is actually numerically equivalent to what we had before."
   ]
  },
  {
   "cell_type": "code",
   "execution_count": 4,
   "metadata": {},
   "outputs": [
    {
     "data": {
      "text/plain": [
       "tensor([[1.0000, 0.0000, 0.0000],\n",
       "        [0.5000, 0.5000, 0.0000],\n",
       "        [0.3333, 0.3333, 0.3333]])"
      ]
     },
     "execution_count": 4,
     "metadata": {},
     "output_type": "execute_result"
    }
   ],
   "source": [
    "mask = torch.tril(torch.ones(context_size, context_size))\n",
    "weights = mask / mask.sum(dim=1, keepdim=True)\n",
    "weights"
   ]
  },
  {
   "cell_type": "markdown",
   "metadata": {},
   "source": [
    "What we have is a square matrix: `(context_size, context_size)` multiplied by a `(context_size, n_embd)` matrix. \n",
    "\n",
    "And torch is going to broadcast this matrix operation across the batch dimension to give us ultimately what we want.\n",
    "\n",
    "Which is a `(batch_size, context_size, n_embd)` matrix that is equivalent to what we had before."
   ]
  },
  {
   "cell_type": "code",
   "execution_count": 5,
   "metadata": {},
   "outputs": [
    {
     "name": "stdout",
     "output_type": "stream",
     "text": [
      "My outputs are equivalent: True\n"
     ]
    },
    {
     "data": {
      "text/plain": [
       "tensor([[[4.0000, 9.0000, 0.0000, 0.0000],\n",
       "         [5.5000, 4.5000, 2.5000, 1.5000],\n",
       "         [4.3333, 3.3333, 3.0000, 4.0000]],\n",
       "\n",
       "        [[0.0000, 7.0000, 5.0000, 4.0000],\n",
       "         [2.5000, 4.0000, 3.0000, 4.0000],\n",
       "         [2.0000, 4.3333, 4.0000, 4.3333]]])"
      ]
     },
     "execution_count": 5,
     "metadata": {},
     "output_type": "execute_result"
    }
   ],
   "source": [
    "y_output_2 = weights @ x\n",
    "print(f\"My outputs are equivalent: {torch.allclose(y_output, y_output_2)}\")\n",
    "y_output_2"
   ]
  },
  {
   "cell_type": "markdown",
   "metadata": {},
   "source": [
    "Why does this work? \n",
    "* The rows in the triangle matrix are being multiplied by the columns (which corresponds to the context/sequence length) in the input matrix. \n",
    "* The first row in the triangle matix zero's out the all but the very first element of the input matrix columns. Likewise, the second row in the triangle matrix zeros out all by the very first two elements of the input matrix columns. And so on and so forth.\n",
    "\n",
    "What is happening here? \n",
    "* Well, this is a moving average with uniformly weighted across all prior positions of the input. \n",
    "* The first row has a 1, the second row has a 1/2, the third row has a 1/3, etc...\n",
    "* But what if we wanted to take a non-uniform weighted moving average, and ulimately learn the weights to use in the average?\n",
    "* This is what the attention mechanism does."
   ]
  },
  {
   "cell_type": "markdown",
   "metadata": {},
   "source": [
    "### 2.3 Self-Attention Mechanism\n",
    "\n",
    "We are going to learn the weights to use by comparing the query and the key. Here we are using the terminology from the world of databases and hash tables. Your query is like your request. The key is the index of the data to be returned. And the values are what you ultimately are caring about. It doesn't map 1:1 in the world of LLMs, but this is the terminology used.\n",
    "* Change 1: we are learning weights associated with projections of the input sequence.\n",
    "* Change 2: we are creating a weight matrix that corresponds to the similarity of the query and the key. (Previously this was a uniform)\n",
    "* Change 3: we are replacing the zeros with -infinity, because since e^-infinity = 0"
   ]
  },
  {
   "cell_type": "code",
   "execution_count": 31,
   "metadata": {},
   "outputs": [
    {
     "name": "stdout",
     "output_type": "stream",
     "text": [
      "tensor([[[2., 2., 4., 5.],\n",
      "         [2., 2., 0., 4.],\n",
      "         [1., 5., 1., 2.]],\n",
      "\n",
      "        [[1., 5., 1., 3.],\n",
      "         [4., 5., 4., 5.],\n",
      "         [3., 3., 4., 5.]]])\n",
      "tensor([[[5., 4., 4., 3.],\n",
      "         [0., 5., 2., 2.],\n",
      "         [4., 4., 1., 5.]],\n",
      "\n",
      "        [[5., 1., 2., 4.],\n",
      "         [5., 5., 1., 1.],\n",
      "         [0., 4., 2., 1.]]])\n",
      "tensor([[[    1.0000,     0.0000,     0.0000],\n",
      "         [    0.9975,     0.0025,     0.0000],\n",
      "         [    0.4683,     0.0634,     0.4683]],\n",
      "\n",
      "        [[    1.0000,     0.0000,     0.0000],\n",
      "         [    0.3775,     0.6225,     0.0000],\n",
      "         [    0.9707,     0.0293,     0.0000]]])\n"
     ]
    }
   ],
   "source": [
    "batch_size = 2\n",
    "context_size = 3\n",
    "n_embd = 4\n",
    "\n",
    "q = torch.randint(high=6, size=(batch_size, context_size, n_embd), dtype=torch.float32)\n",
    "k = torch.randint(high=6, size=(batch_size, context_size, n_embd), dtype=torch.float32)\n",
    "print(q)\n",
    "print(k)\n",
    "\n",
    "weights = q @ k.transpose(-2, -1) * 1 / math.sqrt(k.shape[-1])\n",
    "weights = weights.masked_fill(torch.tril(torch.ones(context_size, context_size)) == 0, float(\"-inf\"))\n",
    "weights = F.softmax(weights, dim=-1)\n",
    "print(weights)\n",
    "# output = weights @ v\n",
    "# print(q @ k.transpose(-2, -1))"
   ]
  },
  {
   "cell_type": "code",
   "execution_count": 32,
   "metadata": {},
   "outputs": [
    {
     "data": {
      "text/plain": [
       "tensor([[[8., 1., 2., 5., 0., 1., 6., 3., 0., 6., 4., 2.],\n",
       "         [2., 4., 5., 5., 7., 5., 5., 2., 0., 9., 8., 0.],\n",
       "         [4., 4., 2., 6., 9., 8., 8., 6., 5., 9., 9., 7.]],\n",
       "\n",
       "        [[8., 1., 6., 2., 7., 5., 9., 5., 7., 3., 7., 8.],\n",
       "         [1., 0., 2., 9., 6., 0., 5., 4., 9., 4., 3., 4.],\n",
       "         [6., 0., 6., 8., 6., 7., 8., 4., 7., 0., 0., 9.]]])"
      ]
     },
     "execution_count": 32,
     "metadata": {},
     "output_type": "execute_result"
    }
   ],
   "source": [
    "x"
   ]
  },
  {
   "cell_type": "code",
   "execution_count": null,
   "metadata": {},
   "outputs": [],
   "source": [
    "weights @ "
   ]
  },
  {
   "cell_type": "code",
   "execution_count": 6,
   "metadata": {},
   "outputs": [
    {
     "name": "stdout",
     "output_type": "stream",
     "text": [
      "Input (batch_size=2, context_size=3, n_embd=4):\n",
      "tensor([[[-5.6161, -2.5599, -2.4308, -3.7171],\n",
      "         [-3.9803,  0.2815,  0.6249, -0.4333],\n",
      "         [ 0.9179,  2.0273, -3.0268,  2.1266]],\n",
      "\n",
      "        [[-2.8479, -1.6375, -4.8781, -1.9841],\n",
      "         [-1.6361,  0.9025, -0.0676,  0.4190],\n",
      "         [-2.4767, -0.8501, -4.1768, -1.1245]]], grad_fn=<ViewBackward0>)\n",
      "Weights (batch_size=2, context_size=3,context_size=3) :\n",
      "tensor([[[    1.0000,     0.0000,     0.0000],\n",
      "         [    1.0000,     0.0000,     0.0000],\n",
      "         [    0.9943,     0.0000,     0.0057]],\n",
      "\n",
      "        [[    1.0000,     0.0000,     0.0000],\n",
      "         [    0.9991,     0.0009,     0.0000],\n",
      "         [    0.9887,     0.0001,     0.0112]]], grad_fn=<SoftmaxBackward0>)\n",
      "Output (batch_size=2, context_size=3, n_embd=4):\n",
      "tensor([[[-5.6161, -2.5599, -2.4308, -3.7171],\n",
      "         [-5.6161, -2.5599, -2.4308, -3.7171],\n",
      "         [-5.5789, -2.5338, -2.4342, -3.6839]],\n",
      "\n",
      "        [[-2.8479, -1.6375, -4.8781, -1.9841],\n",
      "         [-2.8469, -1.6353, -4.8739, -1.9820],\n",
      "         [-2.8436, -1.6283, -4.8696, -1.9741]]], grad_fn=<UnsafeViewBackward0>)\n"
     ]
    }
   ],
   "source": [
    "import math\n",
    "import torch.nn as nn\n",
    "import torch.nn.functional as F\n",
    "\n",
    "key_layer = nn.Linear(n_embd, n_embd)\n",
    "query_layer = nn.Linear(n_embd, n_embd)\n",
    "value_layer = nn.Linear(n_embd, n_embd)\n",
    "\n",
    "q = key_layer(x)\n",
    "k = query_layer(x)\n",
    "v = value_layer(x)\n",
    "\n",
    "weights = q @ k.transpose(-2, -1) * 1 / math.sqrt(k.shape[-1])\n",
    "weights = weights.masked_fill(torch.tril(torch.ones(context_size, context_size)) == 0, float(\"-inf\"))\n",
    "weights = F.softmax(weights, dim=-1)\n",
    "output = weights @ v\n",
    "print(f\"Input ({batch_size=}, {context_size=}, {n_embd=}):\\n{v}\")\n",
    "print(f\"Weights ({batch_size=}, {context_size=},{context_size=}) :\\n{weights}\")\n",
    "print(f\"Output ({batch_size=}, {context_size=}, {n_embd=}):\\n{output}\")"
   ]
  },
  {
   "cell_type": "markdown",
   "metadata": {},
   "source": [
    "* Change 4: We are applying a scaling factor of 1 / sqrt(d_k). This allows the softmax output to be more spread out when the values are large (the attention logit can become very large). \n",
    "* Here is an example."
   ]
  },
  {
   "cell_type": "code",
   "execution_count": 7,
   "metadata": {},
   "outputs": [
    {
     "name": "stdout",
     "output_type": "stream",
     "text": [
      "no scaling:     tensor([    0.0000,     0.0001,     0.0003,     0.0009,     0.9986,     0.0000])\n",
      "with scaling:   tensor([0.0548, 0.0704, 0.0904, 0.1161, 0.6682, 0.0000])\n"
     ]
    }
   ],
   "source": [
    "print(f\"{'no scaling:':<15} {F.softmax(torch.tensor([0, 1, 2, 3, 10, -1e4]).float(), dim=0)}\")\n",
    "print(f\"{'with scaling:':<15} {F.softmax(torch.tensor([0, 1, 2, 3, 10, -1e4]).float() / n_embd, dim=0)}\")"
   ]
  },
  {
   "cell_type": "markdown",
   "metadata": {},
   "source": [
    "### 2.4 Checking our work\n",
    "\n",
    "Let's to a cross-check using the pytorch attention function to make sure we're doing this correctly. This is a function, so it expects you to pass in the key, query, value data to it.\n",
    "\n",
    "And we can see that we're getting the exact same results here."
   ]
  },
  {
   "cell_type": "code",
   "execution_count": 8,
   "metadata": {},
   "outputs": [
    {
     "name": "stdout",
     "output_type": "stream",
     "text": [
      "Output (batch_size=2, context_size=3, n_embd=4):\n",
      "tensor([[[-5.6161, -2.5599, -2.4308, -3.7171],\n",
      "         [-5.6161, -2.5599, -2.4308, -3.7171],\n",
      "         [-5.5789, -2.5338, -2.4342, -3.6839]],\n",
      "\n",
      "        [[-2.8479, -1.6375, -4.8781, -1.9841],\n",
      "         [-2.8469, -1.6353, -4.8739, -1.9820],\n",
      "         [-2.8436, -1.6283, -4.8696, -1.9741]]], grad_fn=<UnsafeViewBackward0>)\n",
      "Your implementation is correct: True\n"
     ]
    }
   ],
   "source": [
    "expected_output = F.scaled_dot_product_attention(q, k, v, is_causal=True)\n",
    "\n",
    "print(f\"Output ({batch_size=}, {context_size=}, {n_embd=}):\\n{expected_output}\")\n",
    "print(f\"Your implementation is correct: {torch.allclose(output, expected_output)}\")"
   ]
  },
  {
   "cell_type": "markdown",
   "metadata": {},
   "source": [
    "### 2.5 Multi-headed Attention\n",
    "\n",
    "Now we can expand this to the setting of a multi-headed attention. The idea here is to have a bunch of these attention heads processing completely independently. We could create these independently, and then loop through them, and then concatenate them together. However, there's a slightly more efficient way of doing this. Let's make our input data slightly bigger to illustrate and use an example of 4 heads.\n",
    "\n",
    "* It's not obvious until you draw it out, but we create our keys/queries/values together."
   ]
  },
  {
   "cell_type": "code",
   "execution_count": 9,
   "metadata": {},
   "outputs": [
    {
     "name": "stdout",
     "output_type": "stream",
     "text": [
      "Input (batch_size=2, context_size=3, n_embd=12):\n",
      " tensor([[[8., 1., 2., 5., 0., 1., 6., 3., 0., 6., 4., 2.],\n",
      "         [2., 4., 5., 5., 7., 5., 5., 2., 0., 9., 8., 0.],\n",
      "         [4., 4., 2., 6., 9., 8., 8., 6., 5., 9., 9., 7.]],\n",
      "\n",
      "        [[8., 1., 6., 2., 7., 5., 9., 5., 7., 3., 7., 8.],\n",
      "         [1., 0., 2., 9., 6., 0., 5., 4., 9., 4., 3., 4.],\n",
      "         [6., 0., 6., 8., 6., 7., 8., 4., 7., 0., 0., 9.]]])\n"
     ]
    }
   ],
   "source": [
    "batch_size = 2\n",
    "context_size = 3\n",
    "n_embd = 12\n",
    "n_heads = 4\n",
    "\n",
    "x = torch.randint(high=10, size=(batch_size, context_size, n_embd), dtype=torch.float32)\n",
    "print(f\"Input ({batch_size=}, {context_size=}, {n_embd=}):\\n {x}\")\n",
    "\n",
    "key_layer = nn.Linear(n_embd, n_embd)\n",
    "query_layer = nn.Linear(n_embd, n_embd)\n",
    "value_layer = nn.Linear(n_embd, n_embd)\n",
    "\n",
    "q = key_layer(x)\n",
    "k = query_layer(x)\n",
    "v = value_layer(x)\n"
   ]
  },
  {
   "cell_type": "markdown",
   "metadata": {},
   "source": [
    "Then we can convert the head into a batch dimension, so now we have two independent batch dimensions.\n",
    "\n",
    "The first corresponding to the batch of sequences, the second corresponding to the attention head.\n",
    "\n",
    "So our final shape going into the attention calculation is going to be `(batch_size, n_heads, context_size, n_embd // n_heads)`"
   ]
  },
  {
   "cell_type": "code",
   "execution_count": 10,
   "metadata": {},
   "outputs": [],
   "source": [
    "q = q.view(batch_size, context_size, n_heads, n_embd // n_heads).transpose(1, 2)\n",
    "k = k.view(batch_size, context_size, n_heads, n_embd // n_heads).transpose(1, 2)\n",
    "v = v.view(batch_size, context_size, n_heads, n_embd // n_heads).transpose(1, 2)"
   ]
  },
  {
   "cell_type": "markdown",
   "metadata": {},
   "source": [
    "Then we can do the exact same thing as before."
   ]
  },
  {
   "cell_type": "code",
   "execution_count": 11,
   "metadata": {},
   "outputs": [
    {
     "name": "stdout",
     "output_type": "stream",
     "text": [
      "Input (torch.Size([2, 4, 3, 3])):\n",
      "tensor([[[[ 0.5700,  0.3222, -2.3747],\n",
      "          [ 1.5730, -2.4145, -0.8959],\n",
      "          [ 2.6774, -0.4923, -2.4715]],\n",
      "\n",
      "         [[-0.4135, -3.4527, -1.9973],\n",
      "          [-5.2061,  0.1708,  1.9398],\n",
      "          [-4.1394, -3.6896, -1.5541]],\n",
      "\n",
      "         [[-1.8024,  0.6671,  1.5068],\n",
      "          [ 0.4360,  2.8751, -2.0109],\n",
      "          [-1.1852,  3.0334, -2.8473]],\n",
      "\n",
      "         [[ 2.2916, -0.5117,  0.0289],\n",
      "          [ 1.1969, -1.2733, -0.3100],\n",
      "          [ 2.9144, -0.3376,  0.8424]]],\n",
      "\n",
      "\n",
      "        [[[ 5.0462, -1.4799, -5.0024],\n",
      "          [ 0.8774, -0.2471, -2.7377],\n",
      "          [ 3.0366, -0.0454, -4.3973]],\n",
      "\n",
      "         [[-2.6934, -2.8800, -2.7414],\n",
      "          [-3.6354, -2.3350, -0.2569],\n",
      "          [-1.9497, -5.5444, -2.4319]],\n",
      "\n",
      "         [[-1.5781,  2.0507,  0.2764],\n",
      "          [ 0.1471,  0.4645, -0.8665],\n",
      "          [-1.0712,  3.6178,  0.2539]],\n",
      "\n",
      "         [[ 0.8271, -0.1410,  2.5384],\n",
      "          [ 2.2272,  1.3619,  2.4220],\n",
      "          [ 2.5946,  1.0372,  5.2898]]]], grad_fn=<TransposeBackward0>)\n",
      "Weights (torch.Size([2, 4, 3, 3])) :\n",
      "tensor([[[[    1.0000,     0.0000,     0.0000],\n",
      "          [    0.0540,     0.9460,     0.0000],\n",
      "          [    0.0005,     0.3668,     0.6326]],\n",
      "\n",
      "         [[    1.0000,     0.0000,     0.0000],\n",
      "          [    0.5305,     0.4695,     0.0000],\n",
      "          [    0.2203,     0.5561,     0.2237]],\n",
      "\n",
      "         [[    1.0000,     0.0000,     0.0000],\n",
      "          [    0.0000,     1.0000,     0.0000],\n",
      "          [    0.0000,     0.8572,     0.1428]],\n",
      "\n",
      "         [[    1.0000,     0.0000,     0.0000],\n",
      "          [    0.0004,     0.9996,     0.0000],\n",
      "          [    0.0000,     0.0050,     0.9950]]],\n",
      "\n",
      "\n",
      "        [[[    1.0000,     0.0000,     0.0000],\n",
      "          [    0.9945,     0.0055,     0.0000],\n",
      "          [    0.9990,     0.0009,     0.0001]],\n",
      "\n",
      "         [[    1.0000,     0.0000,     0.0000],\n",
      "          [    0.9960,     0.0040,     0.0000],\n",
      "          [    1.0000,     0.0000,     0.0000]],\n",
      "\n",
      "         [[    1.0000,     0.0000,     0.0000],\n",
      "          [    0.0126,     0.9874,     0.0000],\n",
      "          [    0.0000,     0.4864,     0.5136]],\n",
      "\n",
      "         [[    1.0000,     0.0000,     0.0000],\n",
      "          [    0.0075,     0.9925,     0.0000],\n",
      "          [    0.1248,     0.3179,     0.5573]]]], grad_fn=<SoftmaxBackward0>)\n",
      "Output (output.shape=torch.Size([2, 4, 3, 3])):\n",
      "tensor([[[[ 0.5700,  0.3222, -2.3747],\n",
      "          [ 1.5189, -2.2668, -0.9757],\n",
      "          [ 2.2712, -1.1970, -1.8935]],\n",
      "\n",
      "         [[-0.4135, -3.4527, -1.9973],\n",
      "          [-2.6637, -1.7514, -0.1488],\n",
      "          [-3.9119, -1.4907,  0.2912]],\n",
      "\n",
      "         [[-1.8024,  0.6671,  1.5068],\n",
      "          [ 0.4360,  2.8751, -2.0109],\n",
      "          [ 0.2046,  2.8977, -2.1303]],\n",
      "\n",
      "         [[ 2.2916, -0.5117,  0.0289],\n",
      "          [ 1.1974, -1.2730, -0.3098],\n",
      "          [ 2.9058, -0.3422,  0.8367]]],\n",
      "\n",
      "\n",
      "        [[[ 5.0462, -1.4799, -5.0024],\n",
      "          [ 5.0234, -1.4732, -4.9900],\n",
      "          [ 5.0422, -1.4786, -5.0002]],\n",
      "\n",
      "         [[-2.6934, -2.8800, -2.7414],\n",
      "          [-2.6971, -2.8779, -2.7314],\n",
      "          [-2.6934, -2.8801, -2.7414]],\n",
      "\n",
      "         [[-1.5781,  2.0507,  0.2764],\n",
      "          [ 0.1254,  0.4844, -0.8521],\n",
      "          [-0.4786,  2.0839, -0.2911]],\n",
      "\n",
      "         [[ 0.8271, -0.1410,  2.5384],\n",
      "          [ 2.2167,  1.3506,  2.4228],\n",
      "          [ 2.2573,  0.9934,  4.0348]]]], grad_fn=<UnsafeViewBackward0>)\n"
     ]
    }
   ],
   "source": [
    "key_layer = nn.Linear(n_embd, n_embd)\n",
    "query_layer = nn.Linear(n_embd, n_embd)\n",
    "value_layer = nn.Linear(n_embd, n_embd)\n",
    "\n",
    "weights = q @ k.transpose(-2, -1) * 1 / math.sqrt(k.shape[-1])\n",
    "weights = weights.masked_fill(torch.tril(torch.ones(context_size, context_size)) == 0, float(\"-inf\"))\n",
    "weights = F.softmax(weights, dim=-1)\n",
    "output = weights @ v\n",
    "print(f\"Input ({v.shape}):\\n{v}\")\n",
    "print(f\"Weights ({weights.shape}) :\\n{weights}\")\n",
    "print(f\"Output ({output.shape=}):\\n{output}\")"
   ]
  },
  {
   "cell_type": "markdown",
   "metadata": {},
   "source": [
    "Just as before, we can perform our sanity check to ensure we did it right."
   ]
  },
  {
   "cell_type": "code",
   "execution_count": 12,
   "metadata": {},
   "outputs": [
    {
     "name": "stdout",
     "output_type": "stream",
     "text": [
      "Output (batch_size=2, n_heads=4, context_size=3, n_embd=12): torch.Size([2, 4, 3, 3])\n",
      "Your implementation is correct: True\n"
     ]
    }
   ],
   "source": [
    "expected_output = F.scaled_dot_product_attention(q, k, v, is_causal=True)\n",
    "\n",
    "print(f\"Output ({batch_size=}, {n_heads=}, {context_size=}, {n_embd=}): {expected_output.shape}\")\n",
    "print(f\"Your implementation is correct: {torch.allclose(output, expected_output)}\")"
   ]
  },
  {
   "cell_type": "markdown",
   "metadata": {},
   "source": [
    "After computing the attition output, we can reassemble the attention heads side by side along the third dimension and return a 3 dimensional tensor.\n",
    "\n",
    "* Original shape: `(batch_size, n_heads, context_size, n_embd // n_heads)`\n",
    "* Final shape: `(batch_size, context_size, n_embd)`"
   ]
  },
  {
   "cell_type": "code",
   "execution_count": 13,
   "metadata": {},
   "outputs": [],
   "source": [
    "output = output.transpose(1, 2).contiguous().view(batch_size, context_size, n_embd)"
   ]
  }
 ],
 "metadata": {
  "kernelspec": {
   "display_name": "how-to-reproduce-gpt2",
   "language": "python",
   "name": "python3"
  },
  "language_info": {
   "codemirror_mode": {
    "name": "ipython",
    "version": 3
   },
   "file_extension": ".py",
   "mimetype": "text/x-python",
   "name": "python",
   "nbconvert_exporter": "python",
   "pygments_lexer": "ipython3",
   "version": "3.1.undefined"
  }
 },
 "nbformat": 4,
 "nbformat_minor": 2
}
